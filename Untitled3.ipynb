{
 "cells": [
  {
   "cell_type": "code",
   "execution_count": null,
   "metadata": {},
   "outputs": [],
   "source": [
    "import pandas as pd\n",
    "import numpy as np\n",
    "from tqdm import tqdm"
   ]
  },
  {
   "cell_type": "code",
   "execution_count": null,
   "metadata": {},
   "outputs": [],
   "source": [
    "firdge_path = 'Train_Test_IoT_Fridge.csv'\n",
    "garage_path = 'Train_Test_IoT_Garage_Door.csv'\n",
    "gps_path = 'Train_Test_IoT_GPS_Tracker.csv'\n",
    "modbus_path = 'Train_Test_IoT_Modbus.csv'\n",
    "motion_path = 'Train_Test_IoT_Motion_Light.csv'\n",
    "thermostat_path = 'Train_Test_IoT_Thermostat.csv'\n",
    "weather_path = 'Train_Test_IoT_Weather.csv'"
   ]
  },
  {
   "cell_type": "code",
   "execution_count": null,
   "metadata": {},
   "outputs": [],
   "source": [
    "firdge_df = pd.read_csv(firdge_path)\n",
    "garage_df = pd.read_csv(garage_path)\n",
    "gps_df = pd.read_csv(gps_path)\n",
    "modbus_df = pd.read_csv(modbus_path)\n",
    "motion_df = pd.read_csv(motion_path)\n",
    "thermostat_df = pd.read_csv(thermostat_path)\n",
    "weather_df = pd.read_csv(weather_path)"
   ]
  },
  {
   "cell_type": "code",
   "execution_count": null,
   "metadata": {},
   "outputs": [],
   "source": [
    "def split_by_time(df,lable):\n",
    "    df['ds'] = lable\n",
    "    df['h'] = df.time.apply(lambda x : x.split(':')[0])\n",
    "    df['m'] = df.time.apply(lambda x : x.split(':')[1])\n",
    "    df['s'] = df.time.apply(lambda x : x.split(':')[2])\n",
    "    df.set_index(keys=['date','h','ds'], drop=False,inplace=True)\n",
    "    return df.drop(['ts','date','time','h','m','s','ds','label'], axis=1)"
   ]
  },
  {
   "cell_type": "code",
   "execution_count": null,
   "metadata": {},
   "outputs": [],
   "source": [
    "firdge = split_by_time(firdge_df,'firdge')\n",
    "garage = split_by_time(garage_df,'garage')\n",
    "gps = split_by_time(gps_df,'gps')\n",
    "modbus = split_by_time(modbus_df,'modbus')\n",
    "motion = split_by_time(motion_df,'motion')\n",
    "thermostat = split_by_time(thermostat_df,'thermostat')\n",
    "weather = split_by_time(weather_df,'weather')"
   ]
  },
  {
   "cell_type": "code",
   "execution_count": null,
   "metadata": {},
   "outputs": [],
   "source": [
    "firdge_columns = np.concatenate((garage.columns,gps.columns,modbus.columns,motion.columns,\n",
    "                         thermostat.columns,weather.columns)).tolist()\n",
    "garage_columns = np.concatenate((firdge.columns,gps.columns,modbus.columns,motion.columns,\n",
    "                         thermostat.columns,weather.columns)).tolist()\n",
    "gps_columns = np.concatenate((firdge.columns,garage.columns,modbus.columns,motion.columns,\n",
    "                         thermostat.columns,weather.columns)).tolist()\n",
    "modbus_columns = np.concatenate((firdge.columns,garage.columns,gps.columns,motion.columns,\n",
    "                         thermostat.columns,weather.columns)).tolist()\n",
    "motion_columns = np.concatenate((firdge.columns,garage.columns,gps.columns,modbus.columns,\n",
    "                         thermostat.columns,weather.columns)).tolist()\n",
    "thermostat_columns = np.concatenate((firdge.columns,garage.columns,gps.columns,modbus.columns,motion.columns,\n",
    "                         weather.columns)).tolist()\n",
    "weather_columns = np.concatenate((firdge.columns,garage.columns,gps.columns,modbus.columns,motion.columns,\n",
    "                         thermostat.columns)).tolist()\n",
    "\n"
   ]
  },
  {
   "cell_type": "code",
   "execution_count": null,
   "metadata": {},
   "outputs": [],
   "source": [
    "def add_columns(df,columns):\n",
    "    for c in columns:\n",
    "        if c != 'type':\n",
    "            df[c] = 0\n",
    "    return df"
   ]
  },
  {
   "cell_type": "code",
   "execution_count": null,
   "metadata": {},
   "outputs": [],
   "source": [
    "firdge_all = add_columns(firdge,firdge_columns)\n",
    "garage_all = add_columns(garage,garage_columns)\n",
    "gps_all = add_columns(gps,gps_columns)\n",
    "modbus_all = add_columns(modbus,modbus_columns)\n",
    "motion_all = add_columns(motion,motion_columns)\n",
    "thermostat_all = add_columns(thermostat,thermostat_columns)\n",
    "weather_all = add_columns(weather,weather_columns)"
   ]
  },
  {
   "cell_type": "code",
   "execution_count": null,
   "metadata": {},
   "outputs": [],
   "source": [
    "total = firdge_all\n",
    "total = total.append(garage_all)\n",
    "total = total.append(gps_all)\n",
    "total = total.append(modbus_all)\n",
    "total = total.append(motion_all)\n",
    "total = total.append(thermostat_all)\n",
    "total = total.append(weather_all)"
   ]
  },
  {
   "cell_type": "code",
   "execution_count": null,
   "metadata": {},
   "outputs": [],
   "source": [
    "total"
   ]
  },
  {
   "cell_type": "code",
   "execution_count": null,
   "metadata": {},
   "outputs": [],
   "source": [
    "obj = {}\n",
    "for i in range(len(total.type.unique())):\n",
    "    obj[total.type.unique()[i]] = i\n",
    "total.type = total.type.map(obj)"
   ]
  },
  {
   "cell_type": "code",
   "execution_count": null,
   "metadata": {},
   "outputs": [],
   "source": [
    "for index in tqdm(total.index.unique()):\n",
    "    arr = [[0 for _ in range(18)] for i in range(0,24)]\n",
    "    sub = total.loc[index]\n",
    "    for i in range(0,sub.shape[0]):\n",
    "        arr = arr[1:]\n",
    "        l1 = sub.drop(['type'],axis=1).values[i].tolist()"
   ]
  },
  {
   "cell_type": "code",
   "execution_count": null,
   "metadata": {},
   "outputs": [],
   "source": [
    "def true_false_map(x):\n",
    "    if x == 1 or x == 0:\n",
    "        return x\n",
    "    if 'true' in x or '1' in x:\n",
    "        return 1\n",
    "    else:\n",
    "        return 0\n",
    "def on_off_map(x):\n",
    "    if x == 1 or x == 0:\n",
    "        return x\n",
    "    if 'on' in x or '1' in x:\n",
    "        return 1\n",
    "    else:\n",
    "        return 0"
   ]
  },
  {
   "cell_type": "code",
   "execution_count": null,
   "metadata": {},
   "outputs": [],
   "source": [
    "total.door_state.map({0:0,'closed':0,'open':1})\n",
    "total.sphone_signal.apply(true_false_map)\n",
    "total.FC1_Read_Input_Register.apply(lambda x: x/10000)\n",
    "total.FC2_Read_Discrete_Value.apply(lambda x: x/10000)\n",
    "total.FC3_Read_Holding_Register.apply(lambda x: x/10000)\n",
    "total.FC4_Read_Coil.apply(lambda x: x/10000)\n",
    "total.light_status.apply(on_off_map).unique()"
   ]
  },
  {
   "cell_type": "code",
   "execution_count": null,
   "metadata": {},
   "outputs": [],
   "source": [
    "total"
   ]
  },
  {
   "cell_type": "code",
   "execution_count": null,
   "metadata": {},
   "outputs": [],
   "source": [
    "total.current_temperature.unique()"
   ]
  },
  {
   "cell_type": "code",
   "execution_count": null,
   "metadata": {},
   "outputs": [],
   "source": [
    "modbus_df.columns"
   ]
  },
  {
   "cell_type": "code",
   "execution_count": null,
   "metadata": {},
   "outputs": [],
   "source": [
    "import torch as torch\n",
    "import syft as sy\n",
    "hook = sy.frameworks.torch.hook.hook.TorchHook(torch)"
   ]
  },
  {
   "cell_type": "code",
   "execution_count": null,
   "metadata": {},
   "outputs": [],
   "source": [
    "dir(sy)"
   ]
  },
  {
   "cell_type": "code",
   "execution_count": null,
   "metadata": {},
   "outputs": [],
   "source": [
    "from inspect import getmembers, isfunction"
   ]
  },
  {
   "cell_type": "code",
   "execution_count": null,
   "metadata": {},
   "outputs": [],
   "source": [
    "print(getmembers(sy, isfunction))"
   ]
  },
  {
   "cell_type": "code",
   "execution_count": null,
   "metadata": {},
   "outputs": [],
   "source": [
    "\n",
    "import sys\n",
    "import pytest\n",
    "import syft as sy\n",
    "from syft.core.node.common.service.auth import AuthorizationException\n",
    "from syft.util import key_emoji\n",
    "sy.LOG_FILE = \"syft_do.log\"\n",
    "sy.logger.remove()\n",
    "_ = sy.logger.add(sys.stdout, level=\"DEBUG\")"
   ]
  },
  {
   "cell_type": "code",
   "execution_count": null,
   "metadata": {},
   "outputs": [],
   "source": [
    "somedevice = sy.Device()"
   ]
  },
  {
   "cell_type": "code",
   "execution_count": null,
   "metadata": {},
   "outputs": [],
   "source": [
    "\n",
    "print(somedevice.name, somedevice.id, somedevice.address)"
   ]
  },
  {
   "cell_type": "code",
   "execution_count": null,
   "metadata": {},
   "outputs": [],
   "source": [
    "\n",
    "bob_device = sy.Device(name=\"Bob's iPhone\")\n",
    "assert bob_device.name == \"Bob's iPhone\""
   ]
  },
  {
   "cell_type": "code",
   "execution_count": null,
   "metadata": {},
   "outputs": [],
   "source": [
    "bob_device_client = bob_device.get_client()"
   ]
  },
  {
   "cell_type": "code",
   "execution_count": 1,
   "metadata": {},
   "outputs": [],
   "source": [
    "import syft as sy\n",
    "from syft.lib import python"
   ]
  },
  {
   "cell_type": "code",
   "execution_count": 2,
   "metadata": {},
   "outputs": [],
   "source": [
    "alice = sy.VirtualMachine(name=\"alice\")\n",
    "alice_client = alice.get_root_client()"
   ]
  },
  {
   "cell_type": "code",
   "execution_count": 3,
   "metadata": {},
   "outputs": [],
   "source": [
    "remote_python = alice_client.syft.lib.python"
   ]
  },
  {
   "cell_type": "code",
   "execution_count": 4,
   "metadata": {},
   "outputs": [],
   "source": [
    "# get imports from remote client to match\n",
    "torch = alice_client.torch\n",
    "torchvision = alice_client.torchvision\n",
    "transforms = torchvision.transforms\n",
    "datasets = torchvision.datasets\n",
    "nn = torch.nn\n",
    "F = torch.nn.functional\n",
    "optim = torch.optim\n",
    "StepLR = torch.optim.lr_scheduler.StepLR"
   ]
  },
  {
   "cell_type": "code",
   "execution_count": 5,
   "metadata": {},
   "outputs": [],
   "source": [
    "# class Net(nn.Module):\n",
    "class Net:\n",
    "    modules = []\n",
    "    training = False\n",
    "\n",
    "    def __init__(self) -> None:\n",
    "        super(Net, self).__init__()\n",
    "        self.conv1 = nn.Conv2d(1, 32, 3, 1)\n",
    "        self.conv2 = nn.Conv2d(32, 64, 3, 1)\n",
    "        self.dropout1 = nn.Dropout2d(0.25)\n",
    "        self.dropout2 = nn.Dropout2d(0.5)\n",
    "        self.fc1 = nn.Linear(9216, 128)\n",
    "        self.fc2 = nn.Linear(128, 10)\n",
    "\n",
    "        # add to modules list\n",
    "        self.modules.append(self.conv1)\n",
    "        self.modules.append(self.conv2)\n",
    "        self.modules.append(self.dropout1)\n",
    "        self.modules.append(self.dropout2)\n",
    "        self.modules.append(self.fc1)\n",
    "        self.modules.append(self.fc2)\n",
    "\n",
    "    def train(self, mode: bool = True):\n",
    "        self.training = mode\n",
    "        for module in self.modules:\n",
    "            module.train(mode)\n",
    "        return self\n",
    "\n",
    "    def forward(self, x):\n",
    "        x = self.conv1(x)\n",
    "        x = F.relu(x)\n",
    "        x = self.conv2(x)\n",
    "        x = F.relu(x)\n",
    "        x = F.max_pool2d(x, 2)\n",
    "        x = self.dropout1(x)\n",
    "        x = torch.flatten(x, 1)\n",
    "        x = self.fc1(x)\n",
    "        x = F.relu(x)\n",
    "        x = self.dropout2(x)\n",
    "        x = self.fc2(x)\n",
    "        output = F.log_softmax(x, dim=1)\n",
    "        return output\n",
    "\n",
    "    def __call__(self, input):\n",
    "        return self.forward(input)\n",
    "\n",
    "    # local list of remote ListPointers of TensorPointers\n",
    "    def parameters(self, recurse: bool = True):\n",
    "        params_list = remote_python.List()\n",
    "        for module in self.modules:\n",
    "            param_pointers = module.parameters()\n",
    "            params_list += param_pointers\n",
    "\n",
    "        return params_list\n",
    "    \n",
    "    def cuda(self, device):\n",
    "        for module in self.modules:\n",
    "            module.cuda(device)\n",
    "    \n",
    "    def cpu(self):\n",
    "        for module in self.modules:\n",
    "            module.cpu()"
   ]
  },
  {
   "cell_type": "code",
   "execution_count": 6,
   "metadata": {},
   "outputs": [],
   "source": [
    "\n",
    "# We need this for the DEMO purpose because at the training time\n",
    "# we want to see the loss and for doing that (in a real world scenario)\n",
    "# we will have to do a request and then to get it approved by the data owner\n",
    "# Since training might generate a lot of request and we know the VM is locally\n",
    "# we kind of approve those requests locally\n",
    "def get_permission(obj):\n",
    "    remote_obj = alice.store[obj.id_at_location]\n",
    "    remote_obj.read_permissions[alice_client.verify_key] = obj.id_at_location"
   ]
  },
  {
   "cell_type": "code",
   "execution_count": 7,
   "metadata": {},
   "outputs": [],
   "source": [
    "args = {\n",
    "    \"batch_size\": 64,\n",
    "    \"test_batch_size\": 1000,\n",
    "    \"epochs\": 14,\n",
    "    \"lr\": 1.0,\n",
    "    \"gamma\": 0.7,\n",
    "    \"no_cuda\": True,\n",
    "    \"dry_run\": False,\n",
    "    \"seed\": 42,\n",
    "    \"log_interval\": 10,\n",
    "    \"save_model\": False,\n",
    "}\n",
    "\n",
    "# Q: Here shouldn't it be?\n",
    "# ptr = torch.cuda.is_available()\n",
    "# ptr.request()\n",
    "# Wait for approve\n",
    "#cuda_available = ptr.get()\n",
    "ptr = torch.cuda.is_available()\n",
    "get_permission(ptr)\n",
    "\n",
    "use_cuda = not args[\"no_cuda\"] and ptr.get()\n",
    "\n",
    "torch.manual_seed(args[\"seed\"])\n",
    "\n",
    "device = torch.device(\"cuda\" if use_cuda else \"cpu\")\n",
    "\n",
    "kwargs = {'batch_size': args[\"batch_size\"]}\n",
    "if use_cuda:\n",
    "    kwargs.update(\n",
    "        wrap_args_dict(\n",
    "            {\n",
    "                'num_workers': 1,\n",
    "                'pin_memory': True,\n",
    "                'shuffle': True\n",
    "            },\n",
    "        )\n",
    "    )"
   ]
  },
  {
   "cell_type": "code",
   "execution_count": 8,
   "metadata": {},
   "outputs": [],
   "source": [
    "transform_1 = torchvision.transforms.ToTensor()  # we need this to conver to torch.Tensor\n",
    "transform_2 = torchvision.transforms.Normalize(0.1307, 0.3081)\n",
    "\n",
    "lst = remote_python.List()\n",
    "lst.append(transform_1)\n",
    "lst.append(transform_2)\n",
    "transform = torchvision.transforms.Compose(lst)\n",
    "dataset1 = datasets.MNIST('../data', train=True, download=True, transform=transform)\n",
    "dataset2 = datasets.MNIST('../data', train=False, transform=transform_1)\n",
    "train_loader = torch.utils.data.DataLoader(dataset1,**kwargs)\n",
    "test_loader = torch.utils.data.DataLoader(dataset2, **kwargs)"
   ]
  },
  {
   "cell_type": "code",
   "execution_count": 9,
   "metadata": {},
   "outputs": [],
   "source": [
    "model = Net()\n"
   ]
  },
  {
   "cell_type": "code",
   "execution_count": 10,
   "metadata": {},
   "outputs": [],
   "source": [
    "out = model.cpu()\n"
   ]
  },
  {
   "cell_type": "code",
   "execution_count": 11,
   "metadata": {},
   "outputs": [
    {
     "name": "stdout",
     "output_type": "stream",
     "text": [
      "<syft.proxy.syft.lib.python.ListPointer object at 0x000001721BEA54C0> <class 'syft.proxy.syft.lib.python.ListPointer'>\n"
     ]
    }
   ],
   "source": [
    "params = model.parameters()\n",
    "print(params, type(params))"
   ]
  },
  {
   "cell_type": "code",
   "execution_count": 12,
   "metadata": {},
   "outputs": [
    {
     "name": "stdout",
     "output_type": "stream",
     "text": [
      "<syft.proxy.torch.optim.AdadeltaPointer object at 0x000001721BEB3A60> <class 'syft.proxy.torch.optim.AdadeltaPointer'>\n"
     ]
    }
   ],
   "source": [
    "optimizer = optim.Adadelta(params, lr=args[\"lr\"])\n",
    "print(optimizer, type(optimizer))"
   ]
  },
  {
   "cell_type": "code",
   "execution_count": 13,
   "metadata": {},
   "outputs": [
    {
     "name": "stdout",
     "output_type": "stream",
     "text": [
      "<syft.proxy.torch.optim.lr_scheduler.StepLRPointer object at 0x000001721BDF4F70> <class 'syft.proxy.torch.optim.lr_scheduler.StepLRPointer'>\n"
     ]
    }
   ],
   "source": [
    "\n",
    "scheduler = StepLR(optimizer, step_size=1, gamma=args[\"gamma\"])\n",
    "print(scheduler, type(scheduler))"
   ]
  },
  {
   "cell_type": "code",
   "execution_count": 17,
   "metadata": {},
   "outputs": [],
   "source": [
    "def train(args, model, device, train_loader, optimizer, epoch):\n",
    "    model.train()\n",
    "    for batch_idx, tensor_ptr in enumerate(train_loader):\n",
    "        print('training step')\n",
    "        data, target = tensor_ptr[0], tensor_ptr[1]\n",
    "        data, target = data, target\n",
    "        optimizer.zero_grad()\n",
    "        output = model(data)\n",
    "        loss = F.nll_loss(output, target)\n",
    "        loss.backward()\n",
    "        optimizer.step()\n",
    "        model.get()\n",
    "        loss_item = loss.item()\n",
    "\n",
    "        # Usually you will need to do lots of requts and the data owner\n",
    "        # should approve them, but since the training will generate lots\n",
    "        # of requests we \"artificially\" approve them all locally\n",
    "        get_permission(loss_item)\n",
    "        local_loss = loss_item.get()\n",
    "        if batch_idx % args[\"log_interval\"] == 0:\n",
    "            print('Train Epoch: {} {} {:.4}'.format(epoch, batch_idx, local_loss))\n",
    "            if args[\"dry_run\"]:\n",
    "                break"
   ]
  },
  {
   "cell_type": "code",
   "execution_count": 1,
   "metadata": {},
   "outputs": [],
   "source": [
    "for epoch in range(1, args[\"epochs\"] + 1):\n",
    "    print('epoch',str(epoch))\n",
    "    train(args, model, device, train_loader, optimizer, epoch)\n",
    "    test(model, device, test_loader)\n",
    "    scheduler.step()"
   ]
  },
  {
   "cell_type": "code",
   "execution_count": 2,
   "metadata": {},
   "outputs": [],
   "source": [
    "hook = sy.TorchHook(torch)"
   ]
  },
  {
   "cell_type": "code",
   "execution_count": null,
   "metadata": {},
   "outputs": [],
   "source": []
  }
 ],
 "metadata": {
  "kernelspec": {
   "display_name": "Python 3 (ipykernel)",
   "language": "python",
   "name": "python3"
  },
  "language_info": {
   "codemirror_mode": {
    "name": "ipython",
    "version": 3
   },
   "file_extension": ".py",
   "mimetype": "text/x-python",
   "name": "python",
   "nbconvert_exporter": "python",
   "pygments_lexer": "ipython3",
   "version": "3.8.5"
  }
 },
 "nbformat": 4,
 "nbformat_minor": 4
}
