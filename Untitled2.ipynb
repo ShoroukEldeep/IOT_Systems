{
 "cells": [
  {
   "cell_type": "code",
   "execution_count": 47,
   "metadata": {},
   "outputs": [],
   "source": [
    "# import scipy.fftpack as fft\n",
    "import numpy as np\n",
    "import math"
   ]
  },
  {
   "cell_type": "code",
   "execution_count": 48,
   "metadata": {},
   "outputs": [],
   "source": [
    "x = np.array([5,7,2])"
   ]
  },
  {
   "cell_type": "code",
   "execution_count": 49,
   "metadata": {},
   "outputs": [
    {
     "data": {
      "text/plain": [
       "array([ 8.08290377,  2.12132034, -2.85773803])"
      ]
     },
     "execution_count": 49,
     "metadata": {},
     "output_type": "execute_result"
    }
   ],
   "source": [
    "fft.dct(x,norm=\"ortho\")"
   ]
  },
  {
   "cell_type": "code",
   "execution_count": 50,
   "metadata": {},
   "outputs": [],
   "source": [
    "arr = np.zeros((8,8))\n",
    "z = np.zeros((8,8,8))"
   ]
  },
  {
   "cell_type": "code",
   "execution_count": 51,
   "metadata": {},
   "outputs": [],
   "source": [
    "for t in range(0,8):\n",
    "    if t == 0:\n",
    "        ct = (1.0/math.sqrt(2)) / np.sqrt(16)\n",
    "    else:\n",
    "        c = 1 / np.sqrt(16)\n",
    "    for k in range(0,8):\n",
    "        if k == 0:\n",
    "            c = (1.0/math.sqrt(2)) / np.sqrt(16)\n",
    "        else:\n",
    "            c = 1 / np.sqrt(16)\n",
    "        for i in range(0,8):\n",
    "            x = (2*i) + 1\n",
    "            x = x * (k * 180)\n",
    "            x = x / (2*8)\n",
    "            x = c * math.cos(x)\n",
    "            arr[k,i] = x"
   ]
  },
  {
   "cell_type": "code",
   "execution_count": 52,
   "metadata": {},
   "outputs": [],
   "source": [
    "def apply(length):\n",
    "    arr = np.zeros((length,length))\n",
    "    for k in range(0,length):\n",
    "        if k == 0:\n",
    "            Ck = 1 / math.sqrt(2)\n",
    "        else:\n",
    "            Ck = 1\n",
    "        for i in range(0,length):\n",
    "            term1 = (2*i)+1\n",
    "            term2 = k * 180\n",
    "            term3 = (term1*term2)/(2*length)\n",
    "            cos = math.cos(math.radians(term3))\n",
    "            term4 = Ck * cos\n",
    "            term5 = term4 * (2/math.sqrt(2*length))\n",
    "            arr[k,i] = term5\n",
    "    return arr"
   ]
  },
  {
   "cell_type": "code",
   "execution_count": 53,
   "metadata": {},
   "outputs": [
    {
     "data": {
      "text/plain": [
       "(8, 8)"
      ]
     },
     "execution_count": 53,
     "metadata": {},
     "output_type": "execute_result"
    }
   ],
   "source": [
    "arr = apply(8)\n",
    "X = np.array([[5,2,36,1,2,7,5,9]]*8)\n",
    "# X = np.array([5,7,2])\n",
    "X.shape"
   ]
  },
  {
   "cell_type": "code",
   "execution_count": 54,
   "metadata": {},
   "outputs": [
    {
     "data": {
      "text/plain": [
       "(8, 8)"
      ]
     },
     "execution_count": 54,
     "metadata": {},
     "output_type": "execute_result"
    }
   ],
   "source": [
    "np.matmul(arr,X).shape"
   ]
  },
  {
   "cell_type": "code",
   "execution_count": 55,
   "metadata": {},
   "outputs": [
    {
     "data": {
      "text/plain": [
       "(8, 8)"
      ]
     },
     "execution_count": 55,
     "metadata": {},
     "output_type": "execute_result"
    }
   ],
   "source": [
    "fft.dct(X,norm=\"ortho\").shape"
   ]
  },
  {
   "cell_type": "code",
   "execution_count": 56,
   "metadata": {},
   "outputs": [
    {
     "data": {
      "text/plain": [
       "-1.0"
      ]
     },
     "execution_count": 56,
     "metadata": {},
     "output_type": "execute_result"
    }
   ],
   "source": [
    "np.cos(math.radians(180))"
   ]
  },
  {
   "cell_type": "code",
   "execution_count": 57,
   "metadata": {},
   "outputs": [],
   "source": [
    "import torch"
   ]
  },
  {
   "cell_type": "code",
   "execution_count": 58,
   "metadata": {},
   "outputs": [],
   "source": [
    "model = torch.nn.Linear(in_features=8,out_features=8,bias=False)"
   ]
  },
  {
   "cell_type": "code",
   "execution_count": 59,
   "metadata": {},
   "outputs": [],
   "source": [
    "model.weight = torch.nn.Parameter(torch.tensor(arr.tolist()))"
   ]
  },
  {
   "cell_type": "code",
   "execution_count": 60,
   "metadata": {},
   "outputs": [],
   "source": [
    "model = model.eval()"
   ]
  },
  {
   "cell_type": "code",
   "execution_count": 61,
   "metadata": {},
   "outputs": [
    {
     "data": {
      "text/plain": [
       "tensor([[ 5.,  2., 36.,  1.,  2.,  7.,  5.,  9.],\n",
       "        [ 5.,  2., 36.,  1.,  2.,  7.,  5.,  9.],\n",
       "        [ 5.,  2., 36.,  1.,  2.,  7.,  5.,  9.],\n",
       "        [ 5.,  2., 36.,  1.,  2.,  7.,  5.,  9.],\n",
       "        [ 5.,  2., 36.,  1.,  2.,  7.,  5.,  9.],\n",
       "        [ 5.,  2., 36.,  1.,  2.,  7.,  5.,  9.],\n",
       "        [ 5.,  2., 36.,  1.,  2.,  7.,  5.,  9.],\n",
       "        [ 5.,  2., 36.,  1.,  2.,  7.,  5.,  9.]])"
      ]
     },
     "execution_count": 61,
     "metadata": {},
     "output_type": "execute_result"
    }
   ],
   "source": [
    "torch.tensor(X.tolist()).float()"
   ]
  },
  {
   "cell_type": "code",
   "execution_count": 62,
   "metadata": {},
   "outputs": [],
   "source": [
    "model_output = model(torch.tensor(X.tolist()).float()).detach().numpy()"
   ]
  },
  {
   "cell_type": "code",
   "execution_count": 63,
   "metadata": {},
   "outputs": [],
   "source": [
    "np_output = fft.dct(X,norm=\"ortho\")"
   ]
  },
  {
   "cell_type": "code",
   "execution_count": 66,
   "metadata": {},
   "outputs": [
    {
     "data": {
      "text/plain": [
       "array([[ 23.688076 ,   4.7494483,  -1.8069646, -15.313904 , -11.667261 ,\n",
       "          2.773112 ,  18.73459  ,  12.989876 ],\n",
       "       [ 23.688076 ,   4.7494483,  -1.8069646, -15.313904 , -11.667261 ,\n",
       "          2.773112 ,  18.73459  ,  12.989876 ],\n",
       "       [ 23.688076 ,   4.7494483,  -1.8069646, -15.313904 , -11.667261 ,\n",
       "          2.773112 ,  18.73459  ,  12.989876 ],\n",
       "       [ 23.688076 ,   4.7494483,  -1.8069646, -15.313904 , -11.667261 ,\n",
       "          2.773112 ,  18.73459  ,  12.989876 ],\n",
       "       [ 23.688076 ,   4.7494483,  -1.8069646, -15.313904 , -11.667261 ,\n",
       "          2.773112 ,  18.73459  ,  12.989876 ],\n",
       "       [ 23.688076 ,   4.7494483,  -1.8069646, -15.313904 , -11.667261 ,\n",
       "          2.773112 ,  18.73459  ,  12.989876 ],\n",
       "       [ 23.688076 ,   4.749448 ,  -1.8069644, -15.313904 , -11.667261 ,\n",
       "          2.773112 ,  18.73459  ,  12.989876 ],\n",
       "       [ 23.688076 ,   4.749448 ,  -1.8069644, -15.313904 , -11.667261 ,\n",
       "          2.773112 ,  18.73459  ,  12.989876 ]], dtype=float32)"
      ]
     },
     "execution_count": 66,
     "metadata": {},
     "output_type": "execute_result"
    }
   ],
   "source": [
    "model_output"
   ]
  },
  {
   "cell_type": "code",
   "execution_count": 67,
   "metadata": {},
   "outputs": [
    {
     "data": {
      "text/plain": [
       "array([[ 23.68807717,   4.74944824,  -1.80696435, -15.31390519,\n",
       "        -11.66726189,   2.77311232,  18.73459046,  12.98987672],\n",
       "       [ 23.68807717,   4.74944824,  -1.80696435, -15.31390519,\n",
       "        -11.66726189,   2.77311232,  18.73459046,  12.98987672],\n",
       "       [ 23.68807717,   4.74944824,  -1.80696435, -15.31390519,\n",
       "        -11.66726189,   2.77311232,  18.73459046,  12.98987672],\n",
       "       [ 23.68807717,   4.74944824,  -1.80696435, -15.31390519,\n",
       "        -11.66726189,   2.77311232,  18.73459046,  12.98987672],\n",
       "       [ 23.68807717,   4.74944824,  -1.80696435, -15.31390519,\n",
       "        -11.66726189,   2.77311232,  18.73459046,  12.98987672],\n",
       "       [ 23.68807717,   4.74944824,  -1.80696435, -15.31390519,\n",
       "        -11.66726189,   2.77311232,  18.73459046,  12.98987672],\n",
       "       [ 23.68807717,   4.74944824,  -1.80696435, -15.31390519,\n",
       "        -11.66726189,   2.77311232,  18.73459046,  12.98987672],\n",
       "       [ 23.68807717,   4.74944824,  -1.80696435, -15.31390519,\n",
       "        -11.66726189,   2.77311232,  18.73459046,  12.98987672]])"
      ]
     },
     "execution_count": 67,
     "metadata": {},
     "output_type": "execute_result"
    }
   ],
   "source": [
    "np_output"
   ]
  },
  {
   "cell_type": "code",
   "execution_count": 46,
   "metadata": {
    "collapsed": true
   },
   "outputs": [
    {
     "name": "stdout",
     "output_type": "stream",
     "text": [
      "\n",
      "predicting ....................................... 100%\n",
      "\n",
      "===================== COMPLETED ======================\n",
      "\n"
     ]
    },
    {
     "ename": "TypeError",
     "evalue": "'builtin_function_or_method' object is not subscriptable",
     "output_type": "error",
     "traceback": [
      "\u001b[1;31m---------------------------------------------------------------------------\u001b[0m",
      "\u001b[1;31mTypeError\u001b[0m                                 Traceback (most recent call last)",
      "\u001b[1;32m<ipython-input-46-a24419a2c8c7>\u001b[0m in \u001b[0;36m<module>\u001b[1;34m\u001b[0m\n\u001b[0;32m      2\u001b[0m \u001b[0mprint\u001b[0m\u001b[1;33m(\u001b[0m\u001b[1;34m'===================== COMPLETED ======================\\n'\u001b[0m\u001b[1;33m)\u001b[0m\u001b[1;33m\u001b[0m\u001b[1;33m\u001b[0m\u001b[0m\n\u001b[0;32m      3\u001b[0m \u001b[1;32mfor\u001b[0m \u001b[0mi\u001b[0m \u001b[1;32min\u001b[0m \u001b[0mrange\u001b[0m\u001b[1;33m(\u001b[0m\u001b[1;36m0\u001b[0m\u001b[1;33m,\u001b[0m\u001b[1;36m8\u001b[0m\u001b[1;33m)\u001b[0m\u001b[1;33m:\u001b[0m\u001b[1;33m\u001b[0m\u001b[1;33m\u001b[0m\u001b[0m\n\u001b[1;32m----> 4\u001b[1;33m     \u001b[0mprint\u001b[0m\u001b[1;33m(\u001b[0m\u001b[1;34m'K = {} > DCT [model output = {:.4f} - numpy output = {:.4f}]'\u001b[0m\u001b[1;33m.\u001b[0m\u001b[0mformat\u001b[0m\u001b[1;33m(\u001b[0m\u001b[0mi\u001b[0m\u001b[1;33m,\u001b[0m\u001b[0mmodel_output\u001b[0m\u001b[1;33m.\u001b[0m\u001b[0mtolist\u001b[0m\u001b[1;33m[\u001b[0m\u001b[0mi\u001b[0m\u001b[1;33m]\u001b[0m\u001b[1;33m,\u001b[0m\u001b[0mmodel_output\u001b[0m\u001b[1;33m[\u001b[0m\u001b[0mi\u001b[0m\u001b[1;33m]\u001b[0m\u001b[1;33m)\u001b[0m\u001b[1;33m)\u001b[0m\u001b[1;33m\u001b[0m\u001b[1;33m\u001b[0m\u001b[0m\n\u001b[0m",
      "\u001b[1;31mTypeError\u001b[0m: 'builtin_function_or_method' object is not subscriptable"
     ]
    }
   ],
   "source": [
    "print('\\npredicting ....................................... 100%\\n')\n",
    "print('===================== COMPLETED ======================\\n')\n",
    "for i in range(0,8):\n",
    "    print('K = {} > DCT [model output = {:.4f} - numpy output = {:.4f}]'.format(i,model_output.tolist[i],model_output[i]))"
   ]
  },
  {
   "cell_type": "code",
   "execution_count": null,
   "metadata": {},
   "outputs": [],
   "source": [
    "z = np.array([2,5,9]).reshape((3,1))\n",
    "t = np.array([1/math.sqrt(2),1,1]).reshape((3,1))"
   ]
  },
  {
   "cell_type": "code",
   "execution_count": null,
   "metadata": {},
   "outputs": [],
   "source": [
    "np.dot(t,z.T)"
   ]
  },
  {
   "cell_type": "code",
   "execution_count": null,
   "metadata": {},
   "outputs": [],
   "source": [
    "K = np.array([x*180 for x in range(0,8)]).reshape((8,1))\n",
    "I = np.array([(2*i) +1 for i in range(0,8)]).reshape((8,1))\n",
    "cos = np.cos(np.radians(np.dot(K,I.T) / 16))\n",
    "ones = np.ones((8,1))\n",
    "np.dot(cos,ones)"
   ]
  },
  {
   "cell_type": "code",
   "execution_count": null,
   "metadata": {},
   "outputs": [],
   "source": [
    "\n",
    "\n",
    "S = np.dot(cos,ones)\n",
    "C = np.array([1/math.sqrt(2),1,1,1,1,1,1,1]).reshape((8,1))\n",
    "Z = np.dot(C,S.T)"
   ]
  },
  {
   "cell_type": "code",
   "execution_count": null,
   "metadata": {},
   "outputs": [],
   "source": [
    "(2*Z)/math.sqrt(16)"
   ]
  },
  {
   "cell_type": "code",
   "execution_count": null,
   "metadata": {},
   "outputs": [],
   "source": []
  },
  {
   "cell_type": "code",
   "execution_count": null,
   "metadata": {},
   "outputs": [],
   "source": []
  },
  {
   "cell_type": "code",
   "execution_count": null,
   "metadata": {},
   "outputs": [],
   "source": []
  },
  {
   "cell_type": "code",
   "execution_count": null,
   "metadata": {},
   "outputs": [],
   "source": [
    "N = 8"
   ]
  },
  {
   "cell_type": "code",
   "execution_count": null,
   "metadata": {},
   "outputs": [],
   "source": [
    "KPi = np.array([x*180 for x in range(0,8)]).reshape((1,8))\n",
    "T = np.array([(2*x)+1 for x in range(0,8)]).reshape((8,1)) / (2*N)\n",
    "cos = np.cos(np.radians(np.dot(T,KPi)))\n",
    "ones = np.ones((8,1))\n",
    "C = np.array([1/math.sqrt(2),1,1,1,1,1,1,1]).reshape((1,8)) / math.sqrt(2*N)\n",
    "dot = np.dot(cos,ones)"
   ]
  },
  {
   "cell_type": "code",
   "execution_count": null,
   "metadata": {},
   "outputs": [],
   "source": [
    "np.dot(dot,C)"
   ]
  },
  {
   "cell_type": "code",
   "execution_count": null,
   "metadata": {},
   "outputs": [],
   "source": [
    "C.shape"
   ]
  },
  {
   "cell_type": "code",
   "execution_count": null,
   "metadata": {},
   "outputs": [],
   "source": [
    "def apply2D(length):\n",
    "    arr = np.zeros((length,length))\n",
    "    for t in range(0,length):\n",
    "        if k == 0:\n",
    "            Ct = 1 / math.sqrt(2)\n",
    "        else:\n",
    "            Ct = 1\n",
    "        for k in range(0,length):\n",
    "            if k == 0:\n",
    "                Ck = 1 / math.sqrt(2)\n",
    "            else:\n",
    "                Ck = 1\n",
    "            for i in range(0,length):\n",
    "                term1 = (2*i)+1\n",
    "                term2 = k * 180\n",
    "                term3 = (term1*term2)/(2*length)\n",
    "                cos = math.cos(math.radians(term3))\n",
    "                term4 = Ck * cos\n",
    "                term5 = term4 * (2/math.sqrt(2*length))\n",
    "                arr[k,i] = term5\n",
    "    return arr"
   ]
  },
  {
   "cell_type": "code",
   "execution_count": 23,
   "metadata": {},
   "outputs": [],
   "source": [
    "a = np.array([[1,1,1,1,0,0,0,0],[1,1,1,1,0,0,0,0],[1,1,1,1,0,0,0,0],[1,1,1,1,0,0,0,0],\n",
    "         [0,0,0,0,1,1,1,1],[0,0,0,0,1,1,1,1],[0,0,0,0,1,1,1,1],[0,0,0,0,1,1,1,1]])"
   ]
  },
  {
   "cell_type": "code",
   "execution_count": 25,
   "metadata": {},
   "outputs": [
    {
     "name": "stdout",
     "output_type": "stream",
     "text": [
      "[[ 1.41421356  1.28145772  0.         -0.44998811  0.          0.30067244\n",
      "   0.         -0.25489779]\n",
      " [ 1.41421356  1.28145772  0.         -0.44998811  0.          0.30067244\n",
      "   0.         -0.25489779]\n",
      " [ 1.41421356  1.28145772  0.         -0.44998811  0.          0.30067244\n",
      "   0.         -0.25489779]\n",
      " [ 1.41421356  1.28145772  0.         -0.44998811  0.          0.30067244\n",
      "   0.         -0.25489779]\n",
      " [ 1.41421356 -1.28145772  0.          0.44998811  0.         -0.30067244\n",
      "   0.          0.25489779]\n",
      " [ 1.41421356 -1.28145772  0.          0.44998811  0.         -0.30067244\n",
      "   0.          0.25489779]\n",
      " [ 1.41421356 -1.28145772  0.          0.44998811  0.         -0.30067244\n",
      "   0.          0.25489779]\n",
      " [ 1.41421356 -1.28145772  0.          0.44998811  0.         -0.30067244\n",
      "   0.          0.25489779]]\n"
     ]
    }
   ],
   "source": [
    "print(fft.dct(a,norm=\"ortho\"))"
   ]
  },
  {
   "cell_type": "code",
   "execution_count": null,
   "metadata": {},
   "outputs": [],
   "source": []
  }
 ],
 "metadata": {
  "kernelspec": {
   "display_name": "Python 3",
   "language": "python",
   "name": "python3"
  },
  "language_info": {
   "codemirror_mode": {
    "name": "ipython",
    "version": 3
   },
   "file_extension": ".py",
   "mimetype": "text/x-python",
   "name": "python",
   "nbconvert_exporter": "python",
   "pygments_lexer": "ipython3",
   "version": "3.7.6"
  }
 },
 "nbformat": 4,
 "nbformat_minor": 4
}
